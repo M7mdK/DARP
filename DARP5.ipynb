{
  "nbformat": 4,
  "nbformat_minor": 0,
  "metadata": {
    "accelerator": "GPU",
    "colab": {
      "name": "DARP5.ipynb",
      "provenance": [],
      "collapsed_sections": [
        "UIypcYMagN4O"
      ]
    },
    "kernelspec": {
      "display_name": "Python 3",
      "name": "python3"
    },
    "language_info": {
      "name": "python"
    }
  },
  "cells": [
    {
      "cell_type": "code",
      "metadata": {
        "id": "539X38wqQEwR"
      },
      "source": [
        "import numpy as np\n",
        "import pandas as pd\n",
        "import datetime\n",
        "import csv\n",
        "from sklearn.model_selection import train_test_split\n",
        "\n",
        "import tensorflow as tf\n",
        "from tensorflow import keras\n",
        "from tensorflow.keras.models import Sequential\n",
        "from tensorflow.keras.layers import Activation, Dense, Dropout, LSTM\n",
        "from keras.models import load_model\n",
        "\n",
        "from sklearn.metrics import classification_report\n"
      ],
      "execution_count": 26,
      "outputs": []
    },
    {
      "cell_type": "code",
      "metadata": {
        "colab": {
          "base_uri": "https://localhost:8080/"
        },
        "id": "YGGbP0mqpETg",
        "outputId": "ecc6e899-25ec-43b8-c207-a54b928ab299"
      },
      "source": [
        "from google.colab import drive\n",
        "drive.mount('/content/drive/')"
      ],
      "execution_count": 2,
      "outputs": [
        {
          "output_type": "stream",
          "text": [
            "Mounted at /content/drive/\n"
          ],
          "name": "stdout"
        }
      ]
    },
    {
      "cell_type": "code",
      "metadata": {
        "id": "qTuKg7VwoptS"
      },
      "source": [
        "# fix random seed:\n",
        "np.random.seed(7)"
      ],
      "execution_count": 38,
      "outputs": []
    },
    {
      "cell_type": "code",
      "metadata": {
        "colab": {
          "base_uri": "https://localhost:8080/"
        },
        "id": "J3UKCnGv1cC8",
        "outputId": "c2267c22-5340-4606-faaf-890d89dc75b6"
      },
      "source": [
        "physical_devices = tf.config.experimental.list_physical_devices('GPU')\n",
        "print(len(phd))\n",
        "tf.config.experimental.set_memory_growth(physical_devices[0] , True)"
      ],
      "execution_count": null,
      "outputs": [
        {
          "output_type": "stream",
          "text": [
            "1\n"
          ],
          "name": "stdout"
        }
      ]
    },
    {
      "cell_type": "markdown",
      "metadata": {
        "id": "UIypcYMagN4O"
      },
      "source": [
        "#**Data Preparation**"
      ]
    },
    {
      "cell_type": "code",
      "metadata": {
        "colab": {
          "base_uri": "https://localhost:8080/"
        },
        "id": "R4BCuue5qJRa",
        "outputId": "89a16aa4-2fe5-434e-cf8b-cb61a8bd0d53"
      },
      "source": [
        "#Preparing DataSet files paths\n",
        "#Pathes for Yellow part of the Dataset:\n",
        "/*\n",
        "path = []\n",
        "for m in range(12):\n",
        "  if(m<9):\n",
        "    path.append(\"/content/drive/MyDrive/NYC_TLC_Dataset/Yellow/yellow_tripdata_2018-0\" + str(m+1) + \".csv\")\n",
        "  else:\n",
        "    path.append(\"/content/drive/MyDrive/NYC_TLC_Dataset/Yellow/yellow_tripdata_2018-\" + str(m+1) + \".csv\")\n",
        "\n",
        "print(path)\n",
        "\n",
        "#Pathes for Green part of the Dataset:\n",
        "pathG = []\n",
        "for m in range(12):\n",
        "  if(m<9):\n",
        "    pathG.append(\"/content/drive/MyDrive/NYC_TLC_Dataset/Green/green_tripdata_2018-0\" + str(m+1) + \".csv\")\n",
        "  else:\n",
        "    pathG.append(\"/content/drive/MyDrive/NYC_TLC_Dataset/Green/green_tripdata_2018-\" + str(m+1) + \".csv\")\n",
        "\n",
        "print(pathG)\n",
        "*/"
      ],
      "execution_count": null,
      "outputs": [
        {
          "output_type": "stream",
          "text": [
            "['/content/drive/MyDrive/NYC_TLC_Dataset/Yellow/yellow_tripdata_2018-01.csv', '/content/drive/MyDrive/NYC_TLC_Dataset/Yellow/yellow_tripdata_2018-02.csv', '/content/drive/MyDrive/NYC_TLC_Dataset/Yellow/yellow_tripdata_2018-03.csv', '/content/drive/MyDrive/NYC_TLC_Dataset/Yellow/yellow_tripdata_2018-04.csv', '/content/drive/MyDrive/NYC_TLC_Dataset/Yellow/yellow_tripdata_2018-05.csv', '/content/drive/MyDrive/NYC_TLC_Dataset/Yellow/yellow_tripdata_2018-06.csv', '/content/drive/MyDrive/NYC_TLC_Dataset/Yellow/yellow_tripdata_2018-07.csv', '/content/drive/MyDrive/NYC_TLC_Dataset/Yellow/yellow_tripdata_2018-08.csv', '/content/drive/MyDrive/NYC_TLC_Dataset/Yellow/yellow_tripdata_2018-09.csv', '/content/drive/MyDrive/NYC_TLC_Dataset/Yellow/yellow_tripdata_2018-10.csv', '/content/drive/MyDrive/NYC_TLC_Dataset/Yellow/yellow_tripdata_2018-11.csv', '/content/drive/MyDrive/NYC_TLC_Dataset/Yellow/yellow_tripdata_2018-12.csv']\n",
            "['/content/drive/MyDrive/NYC_TLC_Dataset/Green/green_tripdata_2018-01.csv', '/content/drive/MyDrive/NYC_TLC_Dataset/Green/green_tripdata_2018-02.csv', '/content/drive/MyDrive/NYC_TLC_Dataset/Green/green_tripdata_2018-03.csv', '/content/drive/MyDrive/NYC_TLC_Dataset/Green/green_tripdata_2018-04.csv', '/content/drive/MyDrive/NYC_TLC_Dataset/Green/green_tripdata_2018-05.csv', '/content/drive/MyDrive/NYC_TLC_Dataset/Green/green_tripdata_2018-06.csv', '/content/drive/MyDrive/NYC_TLC_Dataset/Green/green_tripdata_2018-07.csv', '/content/drive/MyDrive/NYC_TLC_Dataset/Green/green_tripdata_2018-08.csv', '/content/drive/MyDrive/NYC_TLC_Dataset/Green/green_tripdata_2018-09.csv', '/content/drive/MyDrive/NYC_TLC_Dataset/Green/green_tripdata_2018-10.csv', '/content/drive/MyDrive/NYC_TLC_Dataset/Green/green_tripdata_2018-11.csv', '/content/drive/MyDrive/NYC_TLC_Dataset/Green/green_tripdata_2018-12.csv']\n"
          ],
          "name": "stdout"
        }
      ]
    },
    {
      "cell_type": "code",
      "metadata": {
        "colab": {
          "base_uri": "https://localhost:8080/"
        },
        "id": "3vyQX3xgKIod",
        "outputId": "8329ec9d-c8ad-4ed0-dc75-d694662f52d1"
      },
      "source": [
        "#Reading all the 12 Yellow files:\n",
        "/*\n",
        "files = []\n",
        "for i in range(12):\n",
        "  f = pd.read_csv(path[i] , usecols=[1 , 7])\n",
        "  f.columns = ['PU_datetime', 'PU_location']\n",
        "  files.append(f) \n",
        "  \n",
        "print(len(files))\n",
        "*/"
      ],
      "execution_count": null,
      "outputs": [
        {
          "output_type": "stream",
          "text": [
            "12\n"
          ],
          "name": "stdout"
        }
      ]
    },
    {
      "cell_type": "code",
      "metadata": {
        "colab": {
          "base_uri": "https://localhost:8080/"
        },
        "id": "rfbKnficI4Hj",
        "outputId": "2564971c-af20-4c21-e0e7-74281605f343"
      },
      "source": [
        "#Reading all the 12 Green files:\n",
        "/*\n",
        "filesG = []\n",
        "for i in range(12):\n",
        "  f = pd.read_csv(pathG[i] , usecols=[1 , 5])\n",
        "  f.columns = ['PU_datetime', 'PU_location']\n",
        "  filesG.append(f) \n",
        "  \n",
        "print(len(filesG))\n",
        "*/"
      ],
      "execution_count": null,
      "outputs": [
        {
          "output_type": "stream",
          "text": [
            "12\n"
          ],
          "name": "stdout"
        }
      ]
    },
    {
      "cell_type": "code",
      "metadata": {
        "colab": {
          "base_uri": "https://localhost:8080/"
        },
        "id": "PWU2GHPOtNve",
        "outputId": "95f9b020-dc68-460f-a7d6-2b547d083b5a"
      },
      "source": [
        "#Fractional Sampling:\n",
        "/*\n",
        "y = 0\n",
        "g = 0\n",
        "samp = []\n",
        "for i in range(12):\n",
        "  samp.append(files[i].sample(frac=.000001, random_state=42))\n",
        "  y += len(samp[i])\n",
        "\n",
        "for i in range(12):\n",
        "  samp.append(filesG[i].sample(frac=.00001 , random_state=42))\n",
        "  g += len(samp[12+i])\n",
        "\n",
        "print(\"Number of Yellow samples: \" + str(y))\n",
        "print(\"Number of Green samples: \" + str(g))\n",
        "print(\"Total: \" + str(y+g))\n",
        "\n",
        "df = pd.concat(samp)\n",
        "ds = df.values\n",
        "print(df)\n",
        "*/"
      ],
      "execution_count": null,
      "outputs": [
        {
          "output_type": "stream",
          "text": [
            "Number of Yellow samples: 102\n",
            "Number of Green samples: 89\n",
            "Total: 191\n",
            "                 PU_datetime  PU_location\n",
            "3173938  2018-01-13 09:46:33          229\n",
            "688471   2018-01-03 19:06:43          144\n",
            "1822513  2018-01-08 17:51:08          264\n",
            "4466690  2018-01-17 18:22:23          239\n",
            "5042422  2018-01-19 14:18:37          236\n",
            "...                      ...          ...\n",
            "391213   2018-12-17 17:48:09           25\n",
            "656838   2018-12-30 16:08:13           41\n",
            "304967   2018-12-14 06:02:55          145\n",
            "64509    2018-12-03 21:28:16           74\n",
            "567382   2018-12-25 20:13:42          181\n",
            "\n",
            "[191 rows x 2 columns]\n"
          ],
          "name": "stdout"
        }
      ]
    },
    {
      "cell_type": "code",
      "metadata": {
        "id": "vycfUOCUoPDe"
      },
      "source": [
        "#Save Samples as CSV files (5 samples of different sizes, sample1 is the largest)\n",
        "/*\n",
        "df.to_csv(\"/content/drive/MyDrive/DS_Samples/sample5.csv\")\n",
        "*/"
      ],
      "execution_count": null,
      "outputs": []
    },
    {
      "cell_type": "code",
      "metadata": {
        "colab": {
          "base_uri": "https://localhost:8080/"
        },
        "id": "De8ZnCDNqtsw",
        "outputId": "ffe30d69-0362-4699-8c29-6ab994f4ca1b"
      },
      "source": [
        "#Load sample:\n",
        "sample_number = 5   #1->5 , Largest->Smallest Samples\n",
        "df = pd.read_csv(\"/content/drive/MyDrive/DS_Samples/sample\" + str(sample_number) + \".csv\")\n",
        "len(df)"
      ],
      "execution_count": null,
      "outputs": [
        {
          "output_type": "execute_result",
          "data": {
            "text/plain": [
              "191"
            ]
          },
          "metadata": {
            "tags": []
          },
          "execution_count": 4
        }
      ]
    },
    {
      "cell_type": "code",
      "metadata": {
        "colab": {
          "base_uri": "https://localhost:8080/"
        },
        "id": "GIdVdY4OQ6-d",
        "outputId": "6100e889-fd5a-4324-c1dc-8dba629dbf3e"
      },
      "source": [
        "# For each time slot t, we will define X=[ n1 , n2 , ...] where each ni corresponds to a zi (for each zone at a time t we have one value for n)\n",
        "# And we will train the model to predict Y=[ n1 , n2 , ...] at time t+1\n",
        "\n",
        "#Fixed Number of Zones:\n",
        "number_of_zones = 265\n",
        "\n",
        "#Define time slots:\n",
        "m = 43200  #m is the size of a time slot in minutes\n",
        "t0 = datetime.datetime(2018,1,1,0,0,0)\n",
        "number_of_timeSlots = int( 365 * 24 * 60 / m )   \n",
        "#For each value of i we have time slot t[i]\n",
        "t = []                                      \n",
        "for i in range(number_of_timeSlots + 1):  \n",
        "    ts = datetime.timedelta(minutes=m*i)\n",
        "    t.append(t0 + ts)\n",
        "\n",
        "    if(i<5):   #Print 5 instances\n",
        "      print(t[i])\n",
        "\n",
        "print(\"... \\nNumber of time slots is: \" + str(len(t)))\n",
        "\n"
      ],
      "execution_count": null,
      "outputs": [
        {
          "output_type": "stream",
          "text": [
            "2018-01-01 00:00:00\n",
            "2018-01-31 00:00:00\n",
            "2018-03-02 00:00:00\n",
            "2018-04-01 00:00:00\n",
            "2018-05-01 00:00:00\n",
            "2018-05-31 00:00:00\n",
            "2018-06-30 00:00:00\n",
            "2018-07-30 00:00:00\n",
            "2018-08-29 00:00:00\n",
            "2018-09-28 00:00:00\n",
            "2018-10-28 00:00:00\n",
            "2018-11-27 00:00:00\n",
            "2018-12-27 00:00:00\n",
            " \n",
            "Number of time slots is: 13\n"
          ],
          "name": "stdout"
        }
      ]
    },
    {
      "cell_type": "code",
      "metadata": {
        "id": "zQe2jvYYGxWa",
        "colab": {
          "base_uri": "https://localhost:8080/"
        },
        "outputId": "02db60c7-26fe-484d-94a0-85c3407f71f0"
      },
      "source": [
        "#Create X and Y:\n",
        "X = []\n",
        "Y = []\n",
        "df[\"PU_datetime\"] = pd.to_datetime(df[\"PU_datetime\"]) #Change type from series to datetime to compare with t[i]'s\n",
        "#For each value of i we have time slot t[i]\n",
        "#Each j corresponds to zone number j+1   (Zones numbers starts from 1 till 265)\n",
        "for i in range(number_of_timeSlots):  \n",
        "    for j in range(1 , number_of_zones+1):\n",
        "      \n",
        "      a = df[ (t[i] <= df[\"PU_datetime\"]) & (df[\"PU_datetime\"] < t[i+1]) & (df[\"PU_location\"] == j)]\n",
        "      \n",
        "      if(i == number_of_timeSlots - 1): #At the last time slot we can't find tn+1 anymore, because this will be in 2019.\n",
        "        Y.append(len(a))                #Then I decided to ignore tn in X and add it to Y only, so that now the last instance in X is at time tn-1 which corresponds to Y at time tn\n",
        "        continue\n",
        "        #We can add: if(len(a) != 0 ): append and so on, else leave it to save space... But how will the model understand the \"No trip\" concept without seeing a zero!?!\n",
        "      X.append([t[i] , j , len(a)])       #X = [  ... , [ti , zj , nij] , ...]\n",
        "\n",
        "      if(i == 0):                         #If this is the first interation (i=0) then we only need the value of X. \n",
        "        continue                          #We only need Y starting from i=1. So that each entry Y[k] corresponds for prediction of entry X[k]\n",
        "      Y.append(len(a))                    #Y = [ ... , n(i+1)j , ...]\n",
        "\n",
        "print(number_of_timeSlots * number_of_zones)\n",
        "print(\"Length of X: \" + str(len(X)))\n",
        "print(\"Length of Y: \" + str(len(Y)))"
      ],
      "execution_count": null,
      "outputs": [
        {
          "output_type": "stream",
          "text": [
            "3180\n",
            "Length of X: 2915\n",
            "Length of Y: 2915\n"
          ],
          "name": "stdout"
        }
      ]
    },
    {
      "cell_type": "code",
      "metadata": {
        "colab": {
          "base_uri": "https://localhost:8080/"
        },
        "id": "0Yd9UVtcMRpv",
        "outputId": "12ebd479-4baf-459f-f3b8-7894ccfb3f28"
      },
      "source": [
        "number_of_timeSlots * number_of_zones"
      ],
      "execution_count": null,
      "outputs": [
        {
          "output_type": "execute_result",
          "data": {
            "text/plain": [
              "4642800"
            ]
          },
          "metadata": {
            "tags": []
          },
          "execution_count": 7
        }
      ]
    },
    {
      "cell_type": "code",
      "metadata": {
        "colab": {
          "base_uri": "https://localhost:8080/"
        },
        "id": "R92YP9f6riWi",
        "outputId": "33443b5e-1550-470a-9d9d-ff689e9c39e9"
      },
      "source": [
        "4642800 -  4642535"
      ],
      "execution_count": null,
      "outputs": [
        {
          "output_type": "execute_result",
          "data": {
            "text/plain": [
              "265"
            ]
          },
          "metadata": {
            "tags": []
          },
          "execution_count": 29
        }
      ]
    },
    {
      "cell_type": "code",
      "metadata": {
        "id": "UmiOJjTOe9Oh"
      },
      "source": [
        "#Print X instances that have trips:\n",
        "for i in range(len(X)):\n",
        "  if(X[i][2] != 0):\n",
        "    print(str(i) + \" , \" + str(X[i]))\n",
        "    if(i == 5):\n",
        "      break"
      ],
      "execution_count": null,
      "outputs": []
    },
    {
      "cell_type": "code",
      "metadata": {
        "id": "dcj9nfPFetNJ"
      },
      "source": [
        "#Print Y instances that have trips:\n",
        "for i in range(len(Y)):\n",
        "  if(Y[i] != 0):\n",
        "    print(Y[i])"
      ],
      "execution_count": null,
      "outputs": []
    },
    {
      "cell_type": "code",
      "metadata": {
        "colab": {
          "base_uri": "https://localhost:8080/"
        },
        "id": "XW7G7AAqr7sf",
        "outputId": "bf2e114e-842c-4b59-b96e-372b53943f6c"
      },
      "source": [
        "24639 - 24374"
      ],
      "execution_count": null,
      "outputs": [
        {
          "output_type": "execute_result",
          "data": {
            "text/plain": [
              "265"
            ]
          },
          "metadata": {
            "tags": []
          },
          "execution_count": 30
        }
      ]
    },
    {
      "cell_type": "code",
      "metadata": {
        "id": "C1cBHifLuaea",
        "colab": {
          "base_uri": "https://localhost:8080/"
        },
        "outputId": "d228eca6-90bc-4866-cbea-5e1d91561439"
      },
      "source": [
        "#Save List X and Y -> CSV File (To Drive):\n",
        "X_fields = ['TimeSlot', 'Zone' , 'Number_of_trips'] \n",
        "Y_fields = ['Number_of_trips']\n",
        "\n",
        "X_file_to_save_name = \"X_Sample5m30\" \n",
        "Y_file_to_save_name = \"Y_Sample5m30\"\n",
        "  \n",
        "with open(\"/content/drive/MyDrive/XY_Samples/\" + X_file_to_save_name + \".csv\", 'w') as fx:\n",
        "    write = csv.writer(fx)      \n",
        "    write.writerow(X_fields)\n",
        "    write.writerows(X)\n",
        "\n",
        "print(\"X Saved!\")\n",
        "\n",
        "with open(\"/content/drive/MyDrive/XY_Samples/\" + Y_file_to_save_name + \".csv\", 'w') as fy:\n",
        "    write = csv.writer(fy)      \n",
        "    write.writerow(Y_fields)\n",
        "    write.writerows(map(lambda y: [y], Y))\n",
        "\n",
        "print(\"Y Saved!\")"
      ],
      "execution_count": null,
      "outputs": [
        {
          "output_type": "stream",
          "text": [
            "X Saved!\n",
            "Y Saved!\n"
          ],
          "name": "stdout"
        }
      ]
    },
    {
      "cell_type": "markdown",
      "metadata": {
        "id": "DvyqQMBsy4mr"
      },
      "source": [
        "#Model Design:"
      ]
    },
    {
      "cell_type": "code",
      "metadata": {
        "colab": {
          "base_uri": "https://localhost:8080/"
        },
        "id": "UKEZjnadyQxe",
        "outputId": "bd725a8d-d58a-47d9-b723-e206aab06fec"
      },
      "source": [
        "#Load X and Y CSV Files -> List (From Drive):\n",
        "\n",
        "# sampleNumber = 5\n",
        "# timeSlotSize = 30\n",
        "\n",
        "X_file_to_load_name = \"X_Sample5monthly\" \n",
        "Y_file_to_load_name = \"Y_Sample5monthly\"\n",
        "\n",
        "X_df = pd.read_csv(\"/content/drive/MyDrive/XY_Samples/\" + X_file_to_load_name +  \".csv\")\n",
        "X_df[\"TimeSlot\"] = pd.to_datetime(X_df[\"TimeSlot\"]) #Convert String -> Datetime\n",
        "X = X_df.values.tolist() #Dataframe -> List\n",
        "print(len(X))\n",
        "\n",
        "Y_df = pd.read_csv(\"/content/drive/MyDrive/XY_Samples/\" + Y_file_to_load_name +  \".csv\")\n",
        "Y = Y_df.values.tolist()\n",
        "print(len(Y))"
      ],
      "execution_count": 27,
      "outputs": [
        {
          "output_type": "stream",
          "text": [
            "2915\n",
            "2915\n"
          ],
          "name": "stdout"
        }
      ]
    },
    {
      "cell_type": "code",
      "metadata": {
        "id": "RyEcztng0Fp1"
      },
      "source": [
        "#Transforming X and Y into numpy array to be able to fit them to the keras model (we can't fit lists)\n",
        "X = np.array(X)\n",
        "Y = np.array(Y)"
      ],
      "execution_count": 28,
      "outputs": []
    },
    {
      "cell_type": "code",
      "metadata": {
        "id": "BxGDNMPR2PfG"
      },
      "source": [
        "#Before:\n",
        "#datetime to integer timestamp\n",
        "for i in range(len(X)):\n",
        "  X[i][0] = int(datetime.datetime.timestamp(X[i][0]))"
      ],
      "execution_count": 29,
      "outputs": []
    },
    {
      "cell_type": "code",
      "metadata": {
        "id": "5q6UjTQl4SNz"
      },
      "source": [
        "# #After:\n",
        "# #integer timestamp to datetime\n",
        "# for i in range(len(X)):\n",
        "#   X[i][0] = datetime.datetime.fromtimestamp(X[i][0])"
      ],
      "execution_count": null,
      "outputs": []
    },
    {
      "cell_type": "code",
      "metadata": {
        "colab": {
          "base_uri": "https://localhost:8080/"
        },
        "id": "51zt4037yR7D",
        "outputId": "d47fac0e-bdd8-436e-c5cd-1ea4b043a941"
      },
      "source": [
        "# #LSTM input_shape must be 3D (samples, time steps , fetures) or  (batch_size, time_steps, seq_len)\n",
        "# X = X.reshape(1, X.shape[0], 3)\n",
        "# Y = Y.reshape(1, Y.shape[0], 1)\n",
        "# print(X.shape)\n",
        "# print(Y.shape)"
      ],
      "execution_count": null,
      "outputs": [
        {
          "output_type": "stream",
          "text": [
            "(1, 2915, 3)\n",
            "(1, 2915, 1)\n"
          ],
          "name": "stdout"
        }
      ]
    },
    {
      "cell_type": "code",
      "metadata": {
        "colab": {
          "base_uri": "https://localhost:8080/"
        },
        "id": "AVOW_i9vPoOm",
        "outputId": "51ca1cb1-b975-432d-edc1-d8ba406c945e"
      },
      "source": [
        "#Train - Test - Split\n",
        "X_train, X_test, Y_train, Y_test = train_test_split(X, Y, test_size=0.2, shuffle=True, random_state=0)\n",
        "\n",
        "print(\"Train samples: \" + str(len(X_train)))\n",
        "print(\"Test samples: \" + str(len(X_test)))"
      ],
      "execution_count": 30,
      "outputs": [
        {
          "output_type": "stream",
          "text": [
            "Train samples: 2332\n",
            "Test samples: 583\n"
          ],
          "name": "stdout"
        }
      ]
    },
    {
      "cell_type": "code",
      "metadata": {
        "colab": {
          "base_uri": "https://localhost:8080/"
        },
        "id": "4XFf7J46UjFi",
        "outputId": "2f1ed599-a958-49e8-e093-aa9053800555"
      },
      "source": [
        "X_train = X_train.reshape(1, X_train.shape[0], 3)\n",
        "Y_train = Y_train.reshape(1, Y_train.shape[0], 1)\n",
        "X_test = X_test.reshape(1, X_test.shape[0], 3)\n",
        "Y_test = Y_test.reshape(1, Y_test.shape[0], 1)\n",
        "print(X_train.shape)\n",
        "print(Y_train.shape)\n",
        "print(X_test.shape)\n",
        "print(Y_test.shape)"
      ],
      "execution_count": 31,
      "outputs": [
        {
          "output_type": "stream",
          "text": [
            "(1, 2332, 3)\n",
            "(1, 2332, 1)\n",
            "(1, 583, 3)\n",
            "(1, 583, 1)\n"
          ],
          "name": "stdout"
        }
      ]
    },
    {
      "cell_type": "code",
      "metadata": {
        "id": "YHhN-uuRug4Y"
      },
      "source": [
        "# #from sklearn.preprocessing import MinMaxScaler\n",
        "# scaler = MinMaxScaler(feature_range = (0,1))\n",
        "# X_Scaled = scaler.fit_transform(X.reshape(-1,1))"
      ],
      "execution_count": null,
      "outputs": []
    },
    {
      "cell_type": "code",
      "metadata": {
        "id": "jzHHdzhgt-gP"
      },
      "source": [
        "# Y_Scaled = scaler.fit_transform(Y.reshape(-1,1))"
      ],
      "execution_count": null,
      "outputs": []
    },
    {
      "cell_type": "code",
      "metadata": {
        "id": "Cnon7_qeuyIG"
      },
      "source": [
        "# #Print X instances that have trips:\n",
        "# for i in range(len(X_Scaled)):\n",
        "#   if(X_Scaled[i][2] != 0):\n",
        "#     print(str(i) + \" , \" + str(X[i]))\n",
        "#     if(i == 5):\n",
        "#       break"
      ],
      "execution_count": null,
      "outputs": []
    },
    {
      "cell_type": "code",
      "metadata": {
        "id": "m-QfwwJKu0ga"
      },
      "source": [
        "# #Print Y instances that have trips:\n",
        "# for i in range(len(Y)):\n",
        "#   if(Y[i] != 0):\n",
        "#     print(Y[i])"
      ],
      "execution_count": null,
      "outputs": []
    },
    {
      "cell_type": "code",
      "metadata": {
        "colab": {
          "base_uri": "https://localhost:8080/"
        },
        "id": "YdGZ0zu3pF2B",
        "outputId": "84691c15-dab1-4195-ebd5-9de80d7ce933"
      },
      "source": [
        "model = Sequential()\n",
        "model.add(LSTM(265 , input_shape = (X_train.shape[1] , 3) , return_sequences=True))  \n",
        "model.add(Dropout(0.2)) #To avoid overfitting (Drop 20% of the data)\n",
        "\n",
        "model.add(LSTM(265 , return_sequences=True))\n",
        "model.add(Dropout(0.2))\n",
        "\n",
        "model.add(LSTM(265 , return_sequences=True))\n",
        "model.add(Dropout(0.2))\n",
        "\n",
        "model.add(LSTM(265))  #return_sequences is False by default\n",
        "model.add(Dropout(0.2))\n",
        "\n",
        "model.add(Dense(units = 1))\n",
        "model.summary()"
      ],
      "execution_count": 35,
      "outputs": [
        {
          "output_type": "stream",
          "text": [
            "Model: \"sequential_1\"\n",
            "_________________________________________________________________\n",
            "Layer (type)                 Output Shape              Param #   \n",
            "=================================================================\n",
            "lstm_1 (LSTM)                (None, 2332, 265)         285140    \n",
            "_________________________________________________________________\n",
            "dropout_1 (Dropout)          (None, 2332, 265)         0         \n",
            "_________________________________________________________________\n",
            "lstm_2 (LSTM)                (None, 2332, 265)         562860    \n",
            "_________________________________________________________________\n",
            "dropout_2 (Dropout)          (None, 2332, 265)         0         \n",
            "_________________________________________________________________\n",
            "lstm_3 (LSTM)                (None, 2332, 265)         562860    \n",
            "_________________________________________________________________\n",
            "dropout_3 (Dropout)          (None, 2332, 265)         0         \n",
            "_________________________________________________________________\n",
            "lstm_4 (LSTM)                (None, 265)               562860    \n",
            "_________________________________________________________________\n",
            "dropout_4 (Dropout)          (None, 265)               0         \n",
            "_________________________________________________________________\n",
            "dense (Dense)                (None, 1)                 266       \n",
            "=================================================================\n",
            "Total params: 1,973,986\n",
            "Trainable params: 1,973,986\n",
            "Non-trainable params: 0\n",
            "_________________________________________________________________\n"
          ],
          "name": "stdout"
        }
      ]
    },
    {
      "cell_type": "code",
      "metadata": {
        "id": "vegQtCJgla7u"
      },
      "source": [
        "# #2*24*7 * 265 = 336*265 , one week all zones (case of 30 minutes time slots)\n",
        "# #1*265 = 265 (case of 1 month time slots)\n",
        "# model = Sequential()\n",
        "# model.add(LSTM(265 , input_shape = (265 , 3) , activation='relu' , return_sequences=True))  \n",
        "# model.add(Dropout(0.2))\n",
        "\n",
        "# model.add(LSTM(128 , activation='relu'))\n",
        "# model.add(Dropout(0.2))\n",
        "\n",
        "# model.add(Dense(32 , activation='relu'))\n",
        "# model.add(Dropout(0.2))\n",
        "\n",
        "# model.add(Dense(10 , activation='softmax'))\n",
        "# model.summary()"
      ],
      "execution_count": null,
      "outputs": []
    },
    {
      "cell_type": "code",
      "metadata": {
        "id": "KjIMWJ2P0hXG"
      },
      "source": [
        "# model = Sequential()\n",
        "# model.add(LSTM(128 , input_shape=(X_train.shape[1:]) , activation='relu' , return_sequences=True))\n",
        "# model.add(Dropout(0.2))\n",
        "\n",
        "# model.add(LSTM(128 , activation='relu'))\n",
        "# model.add(Dropout(0.2))\n",
        "\n",
        "# model.add(Dense(32 , activation='relu'))\n",
        "# model.add(Dropout(0.2))\n",
        "\n",
        "# model.add(Dense(10 , activation='softmax'))\n",
        "# model.summary()"
      ],
      "execution_count": null,
      "outputs": []
    },
    {
      "cell_type": "markdown",
      "metadata": {
        "id": "edtkBIhny9Wj"
      },
      "source": [
        "#Training:"
      ]
    },
    {
      "cell_type": "code",
      "metadata": {
        "id": "OoOXBFfaAFTU",
        "colab": {
          "base_uri": "https://localhost:8080/"
        },
        "outputId": "77b69bc5-9554-4dd3-e1b6-950df91e6085"
      },
      "source": [
        "X_train = np.asarray(X_train).astype('int')\n",
        "Y_train = np.asarray(Y_train).astype('int')\n",
        "X_test = np.asarray(X_test).astype('int')\n",
        "Y_test = np.asarray(Y_test).astype('int')\n",
        "\n",
        "opt = tf.keras.optimizers.Adam(learning_rate=0.001 , decay=0.000001)\n",
        "model.compile(loss='mse' , optimizer=opt , metrics = ['accuracy'])\n",
        "history = model.fit(X_train , Y_train , epochs=10, batch_size = 10, shuffle=True, validation_data=(X_test , Y_test))"
      ],
      "execution_count": 16,
      "outputs": [
        {
          "output_type": "stream",
          "text": [
            "Epoch 1/10\n",
            "WARNING:tensorflow:Model was constructed with shape (None, 265, 3) for input KerasTensor(type_spec=TensorSpec(shape=(None, 265, 3), dtype=tf.float32, name='lstm_input'), name='lstm_input', description=\"created by layer 'lstm_input'\"), but it was called on an input with incompatible shape (None, 2332, 3).\n",
            "WARNING:tensorflow:Model was constructed with shape (None, 265, 3) for input KerasTensor(type_spec=TensorSpec(shape=(None, 265, 3), dtype=tf.float32, name='lstm_input'), name='lstm_input', description=\"created by layer 'lstm_input'\"), but it was called on an input with incompatible shape (None, 2332, 3).\n",
            "1/1 [==============================] - ETA: 0s - loss: 1980985902127691513987072.0000 - accuracy: 4.2882e-04WARNING:tensorflow:Model was constructed with shape (None, 265, 3) for input KerasTensor(type_spec=TensorSpec(shape=(None, 265, 3), dtype=tf.float32, name='lstm_input'), name='lstm_input', description=\"created by layer 'lstm_input'\"), but it was called on an input with incompatible shape (None, 583, 3).\n",
            "1/1 [==============================] - 4s 4s/step - loss: 1980985902127691513987072.0000 - accuracy: 4.2882e-04 - val_loss: nan - val_accuracy: 0.9554\n",
            "Epoch 2/10\n",
            "1/1 [==============================] - 2s 2s/step - loss: nan - accuracy: 0.9434 - val_loss: nan - val_accuracy: 0.9554\n",
            "Epoch 3/10\n",
            "1/1 [==============================] - 2s 2s/step - loss: nan - accuracy: 0.9434 - val_loss: nan - val_accuracy: 0.9554\n",
            "Epoch 4/10\n",
            "1/1 [==============================] - 2s 2s/step - loss: nan - accuracy: 0.9434 - val_loss: nan - val_accuracy: 0.9554\n",
            "Epoch 5/10\n",
            "1/1 [==============================] - 2s 2s/step - loss: nan - accuracy: 0.9434 - val_loss: nan - val_accuracy: 0.9554\n",
            "Epoch 6/10\n",
            "1/1 [==============================] - 2s 2s/step - loss: nan - accuracy: 0.9434 - val_loss: nan - val_accuracy: 0.9554\n",
            "Epoch 7/10\n",
            "1/1 [==============================] - 2s 2s/step - loss: nan - accuracy: 0.9434 - val_loss: nan - val_accuracy: 0.9554\n",
            "Epoch 8/10\n",
            "1/1 [==============================] - 2s 2s/step - loss: nan - accuracy: 0.9434 - val_loss: nan - val_accuracy: 0.9554\n",
            "Epoch 9/10\n",
            "1/1 [==============================] - 2s 2s/step - loss: nan - accuracy: 0.9434 - val_loss: nan - val_accuracy: 0.9554\n",
            "Epoch 10/10\n",
            "1/1 [==============================] - 2s 2s/step - loss: nan - accuracy: 0.9434 - val_loss: nan - val_accuracy: 0.9554\n"
          ],
          "name": "stdout"
        }
      ]
    },
    {
      "cell_type": "code",
      "metadata": {
        "colab": {
          "base_uri": "https://localhost:8080/"
        },
        "id": "OvtOC7DDpMbA",
        "outputId": "d5eeedbd-d299-446b-992c-5cfb7ad3dc4c"
      },
      "source": [
        "model.get_weights()"
      ],
      "execution_count": 37,
      "outputs": [
        {
          "output_type": "execute_result",
          "data": {
            "text/plain": [
              "[array([[ 0.06232844, -0.02953425,  0.00104604, ...,  0.06917667,\n",
              "         -0.01752673,  0.02144372],\n",
              "        [ 0.06741759, -0.02556932,  0.07469261, ...,  0.03084643,\n",
              "         -0.05912355,  0.05797212],\n",
              "        [ 0.04930213,  0.030977  ,  0.0502459 , ..., -0.02291288,\n",
              "          0.01411908, -0.00923607]], dtype=float32),\n",
              " array([[-0.00842428, -0.01083936,  0.01340715, ..., -0.01725402,\n",
              "          0.02310201, -0.00881189],\n",
              "        [ 0.00255297, -0.00966644,  0.00470481, ..., -0.01024144,\n",
              "         -0.01192132, -0.0180763 ],\n",
              "        [ 0.01996517,  0.00919777, -0.01450181, ...,  0.05405999,\n",
              "          0.0099665 ,  0.00402816],\n",
              "        ...,\n",
              "        [ 0.07117599, -0.04026072,  0.04068448, ..., -0.00350265,\n",
              "         -0.02449436,  0.05995306],\n",
              "        [ 0.04946085,  0.01118303, -0.01256744, ..., -0.00744581,\n",
              "         -0.0144234 ,  0.00852701],\n",
              "        [ 0.00298745,  0.0395629 ,  0.00100014, ..., -0.01380257,\n",
              "         -0.05685732,  0.00586968]], dtype=float32),\n",
              " array([0., 0., 0., ..., 0., 0., 0.], dtype=float32),\n",
              " array([[-0.00874804, -0.01729712, -0.0286628 , ..., -0.05383538,\n",
              "         -0.05041438,  0.00404364],\n",
              "        [-0.0059444 ,  0.05591574, -0.03962843, ..., -0.03928411,\n",
              "          0.04800927,  0.02369574],\n",
              "        [ 0.00062136, -0.02225244, -0.01046947, ...,  0.01258866,\n",
              "         -0.01550103, -0.03793528],\n",
              "        ...,\n",
              "        [-0.0427366 , -0.02548537,  0.0405405 , ...,  0.01276682,\n",
              "         -0.05383233, -0.02555378],\n",
              "        [-0.02305611,  0.02536742, -0.0134943 , ..., -0.03302107,\n",
              "         -0.05955344, -0.05369255],\n",
              "        [ 0.05686203, -0.03035213,  0.02464491, ...,  0.0572899 ,\n",
              "          0.06138369,  0.04676762]], dtype=float32),\n",
              " array([[-0.02322459, -0.01489914, -0.00275024, ..., -0.0197105 ,\n",
              "         -0.03247261, -0.01324469],\n",
              "        [-0.02501838,  0.01567125,  0.02556174, ...,  0.00279411,\n",
              "          0.01125255, -0.01656908],\n",
              "        [ 0.00153097, -0.00532971,  0.00263011, ...,  0.01550923,\n",
              "         -0.01290751, -0.01108357],\n",
              "        ...,\n",
              "        [ 0.00738485, -0.01207907,  0.02389009, ...,  0.01784861,\n",
              "         -0.04968315, -0.02272318],\n",
              "        [ 0.03793201,  0.00103254,  0.06976967, ...,  0.00471463,\n",
              "         -0.03503297, -0.01151773],\n",
              "        [ 0.01615095, -0.01897323, -0.01421348, ...,  0.06952588,\n",
              "          0.00727672,  0.03585374]], dtype=float32),\n",
              " array([0., 0., 0., ..., 0., 0., 0.], dtype=float32),\n",
              " array([[ 0.02532949, -0.05066374,  0.00590433, ...,  0.04331711,\n",
              "          0.04455146, -0.00094365],\n",
              "        [ 0.04041757, -0.06032526, -0.04111582, ..., -0.06675508,\n",
              "         -0.02491637,  0.00407925],\n",
              "        [ 0.00308468,  0.05532229, -0.0595924 , ..., -0.06601609,\n",
              "         -0.00913028,  0.03186901],\n",
              "        ...,\n",
              "        [-0.04928933,  0.05521354,  0.01428244, ..., -0.04796252,\n",
              "         -0.0064114 ,  0.00987672],\n",
              "        [ 0.02185404, -0.04206566,  0.02862772, ..., -0.01793824,\n",
              "         -0.04944534, -0.05061161],\n",
              "        [-0.04130193, -0.04024003, -0.04403916, ...,  0.0611334 ,\n",
              "         -0.02606251,  0.00578228]], dtype=float32),\n",
              " array([[ 2.88916826e-02, -3.59952338e-02, -4.31425124e-02, ...,\n",
              "          3.07688266e-02,  1.15763885e-03, -4.26077005e-03],\n",
              "        [ 7.49021024e-03,  9.63667631e-02, -4.01395224e-02, ...,\n",
              "          6.82506412e-02,  4.00284631e-03,  3.01855188e-02],\n",
              "        [-8.16024840e-05,  7.09488755e-03, -1.54113770e-03, ...,\n",
              "         -6.76565766e-02, -4.05012779e-02,  7.28167454e-03],\n",
              "        ...,\n",
              "        [-5.30769937e-02, -7.10792653e-03, -3.34374085e-02, ...,\n",
              "         -6.09375983e-02, -2.82197651e-02,  4.12227400e-03],\n",
              "        [ 3.28680687e-02,  3.74774300e-02,  1.53053785e-02, ...,\n",
              "          7.53861573e-03, -1.98940723e-03, -3.82480212e-03],\n",
              "        [-4.15378157e-03,  1.11054247e-02, -1.70900151e-02, ...,\n",
              "         -4.34411764e-02, -1.00298095e-02,  4.01907191e-02]], dtype=float32),\n",
              " array([0., 0., 0., ..., 0., 0., 0.], dtype=float32),\n",
              " array([[ 0.05090642, -0.01076714,  0.05864981, ..., -0.04676419,\n",
              "         -0.0333463 , -0.0367816 ],\n",
              "        [-0.01761262, -0.02072481, -0.0116928 , ...,  0.00016374,\n",
              "          0.04935949,  0.01989654],\n",
              "        [-0.02708869, -0.00025292, -0.05554948, ...,  0.01878942,\n",
              "          0.01803265, -0.0445787 ],\n",
              "        ...,\n",
              "        [ 0.01189558,  0.00328924,  0.01155215, ...,  0.01401798,\n",
              "          0.04897796,  0.02354854],\n",
              "        [-0.02437405,  0.05295155, -0.05490813, ..., -0.02656241,\n",
              "          0.03377865,  0.04609972],\n",
              "        [-0.02382249,  0.00164565,  0.01673067, ...,  0.00244344,\n",
              "          0.05988578,  0.05403684]], dtype=float32),\n",
              " array([[-0.02268004,  0.01239976, -0.02604149, ...,  0.08636633,\n",
              "          0.00502572, -0.01710722],\n",
              "        [ 0.03946696, -0.0126369 ,  0.00359039, ...,  0.03746261,\n",
              "          0.008216  ,  0.00829133],\n",
              "        [-0.05842146, -0.02542538, -0.0396899 , ...,  0.0338157 ,\n",
              "          0.03522507, -0.03093788],\n",
              "        ...,\n",
              "        [ 0.03450252, -0.00224595, -0.03839732, ...,  0.04319131,\n",
              "         -0.05203974, -0.01724391],\n",
              "        [ 0.02314906, -0.0056765 , -0.0092304 , ...,  0.03088816,\n",
              "         -0.01992823,  0.02583109],\n",
              "        [ 0.00317356, -0.00520596, -0.0097789 , ...,  0.04352438,\n",
              "          0.05535021,  0.04671262]], dtype=float32),\n",
              " array([0., 0., 0., ..., 0., 0., 0.], dtype=float32),\n",
              " array([[-0.10905959],\n",
              "        [ 0.01844387],\n",
              "        [-0.02371636],\n",
              "        [ 0.14070636],\n",
              "        [-0.11958799],\n",
              "        [-0.07529531],\n",
              "        [ 0.04858708],\n",
              "        [ 0.07730447],\n",
              "        [ 0.11037233],\n",
              "        [-0.006524  ],\n",
              "        [-0.07582429],\n",
              "        [-0.05252029],\n",
              "        [ 0.07340138],\n",
              "        [ 0.0712541 ],\n",
              "        [ 0.10010979],\n",
              "        [-0.02285887],\n",
              "        [ 0.03925638],\n",
              "        [ 0.07003155],\n",
              "        [ 0.11490053],\n",
              "        [-0.00362273],\n",
              "        [-0.07653647],\n",
              "        [-0.11845396],\n",
              "        [-0.08301177],\n",
              "        [ 0.02894767],\n",
              "        [ 0.08094886],\n",
              "        [-0.09633473],\n",
              "        [-0.14753126],\n",
              "        [-0.00936113],\n",
              "        [-0.13223115],\n",
              "        [-0.15002665],\n",
              "        [ 0.04754619],\n",
              "        [-0.05938207],\n",
              "        [ 0.00550526],\n",
              "        [ 0.1197035 ],\n",
              "        [ 0.02551326],\n",
              "        [-0.10658006],\n",
              "        [ 0.05753149],\n",
              "        [-0.01614313],\n",
              "        [-0.01284894],\n",
              "        [ 0.0884295 ],\n",
              "        [-0.03369253],\n",
              "        [ 0.0221013 ],\n",
              "        [-0.04600031],\n",
              "        [-0.08132151],\n",
              "        [-0.1062073 ],\n",
              "        [ 0.05618671],\n",
              "        [-0.05715691],\n",
              "        [ 0.0501499 ],\n",
              "        [-0.08147953],\n",
              "        [ 0.00262469],\n",
              "        [-0.11425076],\n",
              "        [-0.01578702],\n",
              "        [-0.14780736],\n",
              "        [-0.12332276],\n",
              "        [ 0.08510597],\n",
              "        [ 0.05084252],\n",
              "        [-0.01026922],\n",
              "        [-0.09845267],\n",
              "        [-0.14898185],\n",
              "        [-0.02429788],\n",
              "        [-0.13417348],\n",
              "        [ 0.13538447],\n",
              "        [ 0.04069857],\n",
              "        [-0.13768013],\n",
              "        [ 0.00727312],\n",
              "        [ 0.1251877 ],\n",
              "        [ 0.05192922],\n",
              "        [-0.02275969],\n",
              "        [ 0.02414587],\n",
              "        [-0.05068802],\n",
              "        [ 0.12118897],\n",
              "        [ 0.00308712],\n",
              "        [-0.05977118],\n",
              "        [ 0.14296812],\n",
              "        [ 0.10862565],\n",
              "        [ 0.11089653],\n",
              "        [ 0.10748607],\n",
              "        [-0.12124304],\n",
              "        [ 0.01415093],\n",
              "        [-0.07520805],\n",
              "        [-0.01397327],\n",
              "        [ 0.07172769],\n",
              "        [-0.00986803],\n",
              "        [ 0.00761759],\n",
              "        [ 0.02817054],\n",
              "        [ 0.10490018],\n",
              "        [-0.1239868 ],\n",
              "        [-0.03258786],\n",
              "        [ 0.1308217 ],\n",
              "        [-0.11250457],\n",
              "        [ 0.00909358],\n",
              "        [-0.11549214],\n",
              "        [-0.00860287],\n",
              "        [-0.13165016],\n",
              "        [ 0.0615211 ],\n",
              "        [-0.12070078],\n",
              "        [-0.12335563],\n",
              "        [-0.05859759],\n",
              "        [-0.08794551],\n",
              "        [ 0.00190654],\n",
              "        [-0.02587505],\n",
              "        [-0.04872043],\n",
              "        [-0.02123421],\n",
              "        [ 0.08460326],\n",
              "        [ 0.13663614],\n",
              "        [-0.03225321],\n",
              "        [-0.01208198],\n",
              "        [ 0.11298949],\n",
              "        [ 0.13708922],\n",
              "        [ 0.00952937],\n",
              "        [ 0.05275369],\n",
              "        [-0.01112756],\n",
              "        [ 0.00552246],\n",
              "        [-0.10578689],\n",
              "        [ 0.14260966],\n",
              "        [-0.00405528],\n",
              "        [-0.03720038],\n",
              "        [ 0.00867639],\n",
              "        [-0.08274361],\n",
              "        [-0.00266805],\n",
              "        [-0.08127152],\n",
              "        [ 0.11476564],\n",
              "        [ 0.03635286],\n",
              "        [ 0.06619681],\n",
              "        [ 0.10457087],\n",
              "        [ 0.04717036],\n",
              "        [-0.13422863],\n",
              "        [ 0.12498143],\n",
              "        [-0.09704605],\n",
              "        [ 0.07111044],\n",
              "        [-0.08204424],\n",
              "        [ 0.05546385],\n",
              "        [ 0.07823955],\n",
              "        [-0.05829526],\n",
              "        [-0.04905917],\n",
              "        [-0.06828494],\n",
              "        [-0.02348232],\n",
              "        [ 0.02367844],\n",
              "        [ 0.05058271],\n",
              "        [ 0.02478053],\n",
              "        [-0.03547822],\n",
              "        [-0.00401875],\n",
              "        [ 0.09883364],\n",
              "        [-0.04258455],\n",
              "        [-0.11079028],\n",
              "        [ 0.11506498],\n",
              "        [-0.13812453],\n",
              "        [ 0.0298913 ],\n",
              "        [ 0.02879012],\n",
              "        [-0.08628143],\n",
              "        [ 0.05540045],\n",
              "        [-0.02076159],\n",
              "        [-0.13061655],\n",
              "        [ 0.13609418],\n",
              "        [ 0.1095627 ],\n",
              "        [ 0.13051015],\n",
              "        [ 0.09635299],\n",
              "        [-0.11163458],\n",
              "        [ 0.0751451 ],\n",
              "        [ 0.00626834],\n",
              "        [-0.10994662],\n",
              "        [-0.00624642],\n",
              "        [-0.08574586],\n",
              "        [ 0.01924184],\n",
              "        [ 0.10768265],\n",
              "        [-0.1258165 ],\n",
              "        [ 0.06666121],\n",
              "        [ 0.0383599 ],\n",
              "        [-0.01616178],\n",
              "        [-0.13598886],\n",
              "        [ 0.01761909],\n",
              "        [ 0.127303  ],\n",
              "        [-0.06910013],\n",
              "        [ 0.02902308],\n",
              "        [ 0.04388998],\n",
              "        [ 0.04335624],\n",
              "        [ 0.02863704],\n",
              "        [ 0.0885638 ],\n",
              "        [-0.07486852],\n",
              "        [-0.12143964],\n",
              "        [ 0.13292435],\n",
              "        [ 0.09205694],\n",
              "        [ 0.09589823],\n",
              "        [ 0.1423012 ],\n",
              "        [ 0.0824088 ],\n",
              "        [-0.1378945 ],\n",
              "        [ 0.13389325],\n",
              "        [-0.08062716],\n",
              "        [ 0.12248701],\n",
              "        [-0.09071867],\n",
              "        [-0.07329725],\n",
              "        [ 0.09069185],\n",
              "        [-0.13204838],\n",
              "        [-0.007663  ],\n",
              "        [ 0.04947188],\n",
              "        [-0.14897849],\n",
              "        [ 0.10307047],\n",
              "        [-0.09915343],\n",
              "        [ 0.066278  ],\n",
              "        [ 0.1368084 ],\n",
              "        [ 0.04954414],\n",
              "        [-0.12672007],\n",
              "        [-0.10089916],\n",
              "        [ 0.11468443],\n",
              "        [-0.00638127],\n",
              "        [-0.07949471],\n",
              "        [ 0.05560067],\n",
              "        [ 0.09996334],\n",
              "        [ 0.06732124],\n",
              "        [ 0.01638643],\n",
              "        [ 0.08981012],\n",
              "        [ 0.09378558],\n",
              "        [ 0.11884677],\n",
              "        [ 0.09690116],\n",
              "        [-0.02194159],\n",
              "        [ 0.13100988],\n",
              "        [-0.01177922],\n",
              "        [-0.14607528],\n",
              "        [ 0.1193113 ],\n",
              "        [ 0.1051276 ],\n",
              "        [ 0.07893726],\n",
              "        [ 0.10689682],\n",
              "        [-0.11595012],\n",
              "        [-0.02254727],\n",
              "        [-0.04443079],\n",
              "        [ 0.05284138],\n",
              "        [ 0.04899038],\n",
              "        [ 0.11391521],\n",
              "        [-0.13909344],\n",
              "        [ 0.11854723],\n",
              "        [ 0.10923511],\n",
              "        [-0.07029045],\n",
              "        [-0.14008975],\n",
              "        [ 0.0546694 ],\n",
              "        [-0.06796084],\n",
              "        [ 0.08596565],\n",
              "        [ 0.04122844],\n",
              "        [-0.14042863],\n",
              "        [ 0.13167727],\n",
              "        [ 0.05156989],\n",
              "        [ 0.08704978],\n",
              "        [-0.00510523],\n",
              "        [-0.0694398 ],\n",
              "        [-0.12688653],\n",
              "        [ 0.0552315 ],\n",
              "        [-0.08899213],\n",
              "        [-0.03198136],\n",
              "        [ 0.07863815],\n",
              "        [-0.13291241],\n",
              "        [-0.01725273],\n",
              "        [-0.1434446 ],\n",
              "        [-0.12058029],\n",
              "        [ 0.08872351],\n",
              "        [ 0.06721841],\n",
              "        [-0.08838351],\n",
              "        [ 0.14578754],\n",
              "        [-0.09012036],\n",
              "        [-0.14070038],\n",
              "        [-0.06417917],\n",
              "        [ 0.04492855],\n",
              "        [ 0.10585284],\n",
              "        [ 0.10318521],\n",
              "        [ 0.11463436],\n",
              "        [-0.03291909],\n",
              "        [-0.08865654]], dtype=float32),\n",
              " array([0.], dtype=float32)]"
            ]
          },
          "metadata": {
            "tags": []
          },
          "execution_count": 37
        }
      ]
    },
    {
      "cell_type": "code",
      "metadata": {
        "id": "H2MsBEK7h8mA",
        "colab": {
          "base_uri": "https://localhost:8080/"
        },
        "outputId": "180181a7-d9a9-492d-853d-2a898128002b"
      },
      "source": [
        "#Save Trained Model to Drive:\n",
        "#Saving will save the same exact model with all the weights and everything (The trained model itself)\n",
        "saved_model_name = \"modelX\"\n",
        "model.save('/content/drive/MyDrive/Models/' + saved_model_name)\n",
        "\n",
        "model.save_weights(\"/content/drive/MyDrive/Models/w\")"
      ],
      "execution_count": 21,
      "outputs": [
        {
          "output_type": "stream",
          "text": [
            "INFO:tensorflow:Assets written to: /content/drive/MyDrive/Models/modelX/assets\n"
          ],
          "name": "stdout"
        }
      ]
    },
    {
      "cell_type": "code",
      "metadata": {
        "id": "LFrDouZ4iGgZ",
        "colab": {
          "base_uri": "https://localhost:8080/"
        },
        "outputId": "16ad02a6-0a74-4f3f-9c36-9fb5dd619f6f"
      },
      "source": [
        "#Load Model from Drive:\n",
        "loaded_model_name = \"modelX\"\n",
        "model = load_model('/content/drive/MyDrive/Models/' + loaded_model_name)\n",
        "\n",
        "model.load_weights(\"/content/drive/MyDrive/Models/w\")\n",
        "\n",
        "#Checks:\n",
        "model.summary()\n",
        "model.get_weights()"
      ],
      "execution_count": 25,
      "outputs": [
        {
          "output_type": "stream",
          "text": [
            "Model: \"sequential\"\n",
            "_________________________________________________________________\n",
            "Layer (type)                 Output Shape              Param #   \n",
            "=================================================================\n",
            "lstm (LSTM)                  (None, 265, 265)          285140    \n",
            "_________________________________________________________________\n",
            "dropout (Dropout)            (None, 265, 265)          0         \n",
            "=================================================================\n",
            "Total params: 285,140\n",
            "Trainable params: 285,140\n",
            "Non-trainable params: 0\n",
            "_________________________________________________________________\n"
          ],
          "name": "stdout"
        },
        {
          "output_type": "execute_result",
          "data": {
            "text/plain": [
              "[array([[nan, nan, nan, ..., nan, nan, nan],\n",
              "        [nan, nan, nan, ..., nan, nan, nan],\n",
              "        [nan, nan, nan, ..., nan, nan, nan]], dtype=float32),\n",
              " array([[nan, nan, nan, ..., nan, nan, nan],\n",
              "        [nan, nan, nan, ..., nan, nan, nan],\n",
              "        [nan, nan, nan, ..., nan, nan, nan],\n",
              "        ...,\n",
              "        [nan, nan, nan, ..., nan, nan, nan],\n",
              "        [nan, nan, nan, ..., nan, nan, nan],\n",
              "        [nan, nan, nan, ..., nan, nan, nan]], dtype=float32),\n",
              " array([nan, nan, nan, ..., nan, nan, nan], dtype=float32)]"
            ]
          },
          "metadata": {
            "tags": []
          },
          "execution_count": 25
        }
      ]
    },
    {
      "cell_type": "code",
      "metadata": {
        "id": "XD6URN_rjSs1"
      },
      "source": [
        "#Note: We can also save the model as JSON String,\n",
        "#And then save the json string in a file on the drive\n",
        "\n",
        "#Save:\n",
        "json_string = model.to_json()\n",
        "\n",
        "#Load:\n",
        "from tensorflow.keras.models import model_from_json\n",
        "m7_Loaded_Model = model_from_json(json_string)\n",
        "\n",
        "#check: m7_Loaded_Model.summary()"
      ],
      "execution_count": null,
      "outputs": []
    },
    {
      "cell_type": "markdown",
      "metadata": {
        "id": "_aLn2CrhzAqi"
      },
      "source": [
        "#Testing:"
      ]
    },
    {
      "cell_type": "code",
      "metadata": {
        "id": "RDq8mdXfLvhM"
      },
      "source": [
        "# y_pred = model.predict(X_test)\n",
        "# y_pred = np.argmax(y_pred, axis = 1)\n",
        "# y_test = np.argmax(Y_test, axis = 1)\n",
        "# print(classification_report(y_test, y_pred))"
      ],
      "execution_count": null,
      "outputs": []
    }
  ]
}